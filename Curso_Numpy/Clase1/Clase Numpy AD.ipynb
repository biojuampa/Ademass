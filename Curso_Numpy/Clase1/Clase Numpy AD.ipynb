{
 "cells": [
  {
   "cell_type": "markdown",
   "id": "3f48b479-bb8a-4d6d-bb2c-b9379b64f218",
   "metadata": {},
   "source": [
    "# Clase de Numpy - Ademass (1 hora)"
   ]
  },
  {
   "cell_type": "markdown",
   "id": "973d971e-8be9-412b-9123-3e2c562647a4",
   "metadata": {},
   "source": [
    "![ndarray características](ndarray.png)"
   ]
  },
  {
   "cell_type": "code",
   "execution_count": 1,
   "id": "2ea78ffe-b55b-4e9a-af19-bb407ffc3224",
   "metadata": {},
   "outputs": [],
   "source": [
    "import numpy as np"
   ]
  },
  {
   "cell_type": "markdown",
   "id": "bfb40f42-6da0-4aab-9296-d67361f1b885",
   "metadata": {},
   "source": [
    "### Dado el siguiente array bidimensional de 4x3."
   ]
  },
  {
   "cell_type": "code",
   "execution_count": 2,
   "id": "a8b415a4-65cd-4f6e-adfb-196b44a5929b",
   "metadata": {},
   "outputs": [],
   "source": [
    "my_array = np.linspace(0, 11, 12, dtype=int).reshape(4,3)"
   ]
  },
  {
   "cell_type": "code",
   "execution_count": 3,
   "id": "c23f81bc-d59d-4d58-ab15-cb2950bb597b",
   "metadata": {},
   "outputs": [
    {
     "data": {
      "text/plain": [
       "array([[ 0,  1,  2],\n",
       "       [ 3,  4,  5],\n",
       "       [ 6,  7,  8],\n",
       "       [ 9, 10, 11]])"
      ]
     },
     "execution_count": 3,
     "metadata": {},
     "output_type": "execute_result"
    }
   ],
   "source": [
    "my_array"
   ]
  },
  {
   "cell_type": "markdown",
   "id": "2d2ef2dc-2764-4c74-a263-fbdc8d4df715",
   "metadata": {},
   "source": [
    "### Definimos las siguientes características:\n",
    "\n",
    "| Característica | Descripción | Valor para my_array |\n",
    "|----------------|-------------|---------------------|\n",
    "|  **Axis**      | cada una de las dimensiones del array | tiene 2 (x,y) |\n",
    "|  **Length**    | el número de valores que contiene una dimensión del array | x=3, y=4 |\n",
    "|  **Index**     | posición de un valor dentro del array | 7 corresponde a (2,1) |\n",
    "|  **Value**     | el valor que contiene el array en un index concreto | (1,2) tiene el valor 5 |\n",
    "|  **Rank**      | cuántas dimensiones tiene el array | 2 |\n",
    "|  **Size**      | el número de elementos (celdas) que contiene el array | 12 |\n",
    "|  **shape**     | el listado de AXIS con su longitud | 4 x 3 |\n",
    "\n",
    "### Algunos ejemplos:"
   ]
  },
  {
   "cell_type": "code",
   "execution_count": 4,
   "id": "a542586c-e6c9-406d-afce-fcdbd1517e7e",
   "metadata": {},
   "outputs": [
    {
     "data": {
      "text/plain": [
       "array([[4.64319115e-310, 0.00000000e+000, 2.41907520e-312,\n",
       "        2.14321575e-312],\n",
       "       [2.46151512e-312, 2.31297541e-312, 2.35541533e-312,\n",
       "        2.05833592e-312],\n",
       "       [2.22809558e-312, 2.56761491e-312, 2.48273508e-312,\n",
       "        2.05833592e-312],\n",
       "       [2.05833592e-312, 2.29175545e-312, 2.07955588e-312,\n",
       "        2.14321575e-312]])"
      ]
     },
     "execution_count": 4,
     "metadata": {},
     "output_type": "execute_result"
    }
   ],
   "source": [
    "# Array vacío de dimensión 4x4 (relleno con basura)\n",
    "np.empty((4,4))"
   ]
  },
  {
   "cell_type": "code",
   "execution_count": 5,
   "id": "91dd3b9e-3526-4d05-977b-89a57de615b4",
   "metadata": {},
   "outputs": [
    {
     "data": {
      "text/plain": [
       "array([[0, 0, 0, 0],\n",
       "       [0, 0, 0, 0],\n",
       "       [0, 0, 0, 0],\n",
       "       [0, 0, 0, 0]])"
      ]
     },
     "execution_count": 5,
     "metadata": {},
     "output_type": "execute_result"
    }
   ],
   "source": [
    "# Array vacío de dimensión 4x4 (relleno con zeros)\n",
    "np.zeros((4,4), int)"
   ]
  },
  {
   "cell_type": "code",
   "execution_count": 6,
   "id": "ffbec502-dbfa-4dc6-a25a-1eb36186cafe",
   "metadata": {},
   "outputs": [
    {
     "data": {
      "text/plain": [
       "array([[1, 1, 1],\n",
       "       [1, 1, 1]])"
      ]
     },
     "execution_count": 6,
     "metadata": {},
     "output_type": "execute_result"
    }
   ],
   "source": [
    "# Array dimensión 2x3 relleno de \"unos\"\n",
    "np.ones((2,3), int)"
   ]
  },
  {
   "cell_type": "code",
   "execution_count": 7,
   "id": "cedaa40e-53c1-4b4a-9f20-6ad409f34d89",
   "metadata": {},
   "outputs": [
    {
     "data": {
      "text/plain": [
       "array([[8, 8, 8, 8],\n",
       "       [8, 8, 8, 8],\n",
       "       [8, 8, 8, 8],\n",
       "       [8, 8, 8, 8],\n",
       "       [8, 8, 8, 8]])"
      ]
     },
     "execution_count": 7,
     "metadata": {},
     "output_type": "execute_result"
    }
   ],
   "source": [
    "# Array de 5x4 relleno de ochos\n",
    "np.full((5,4), 8)"
   ]
  },
  {
   "cell_type": "code",
   "execution_count": 8,
   "id": "b9620144-2a70-4a8c-9dfd-220047fde2cf",
   "metadata": {},
   "outputs": [
    {
     "data": {
      "text/plain": [
       "array([[0.50399253, 0.07466291, 0.1653578 ],\n",
       "       [0.48787129, 0.35690243, 0.85998145],\n",
       "       [0.64758805, 0.87975286, 0.06688693],\n",
       "       [0.49216076, 0.43082918, 0.46064847],\n",
       "       [0.20427743, 0.36472118, 0.02503452]])"
      ]
     },
     "execution_count": 8,
     "metadata": {},
     "output_type": "execute_result"
    }
   ],
   "source": [
    "# Array de 5x3 relleno con números aleatorios\n",
    "np.random.rand(5,3)"
   ]
  },
  {
   "cell_type": "code",
   "execution_count": 9,
   "id": "51ee5878-de03-422f-ba61-5d18457794c1",
   "metadata": {},
   "outputs": [
    {
     "data": {
      "text/plain": [
       "array([[3, 2, 9],\n",
       "       [5, 6, 8],\n",
       "       [7, 7, 9],\n",
       "       [9, 7, 0]])"
      ]
     },
     "execution_count": 9,
     "metadata": {},
     "output_type": "execute_result"
    }
   ],
   "source": [
    "# Array de 4x3 relleno de números enteros aleatorios entre 0 y 9\n",
    "arr = np.random.randint(0,10, (4,3))\n",
    "arr"
   ]
  },
  {
   "cell_type": "code",
   "execution_count": 10,
   "id": "201e2330-839e-444b-b6ac-a6efde702664",
   "metadata": {},
   "outputs": [
    {
     "data": {
      "text/plain": [
       "array([[3, 2, 9, 5],\n",
       "       [6, 8, 7, 7],\n",
       "       [9, 9, 7, 0]])"
      ]
     },
     "execution_count": 10,
     "metadata": {},
     "output_type": "execute_result"
    }
   ],
   "source": [
    "# El array anterior \"reshaped\" a 3x4\n",
    "arr.reshape(3,4) # no modifica el original"
   ]
  },
  {
   "cell_type": "code",
   "execution_count": 11,
   "id": "8216a9e0-c03d-473c-9be3-ddc304463e6c",
   "metadata": {},
   "outputs": [
    {
     "data": {
      "text/plain": [
       "array([[3, 2, 9, 5, 6, 8],\n",
       "       [7, 7, 9, 9, 7, 0]])"
      ]
     },
     "execution_count": 11,
     "metadata": {},
     "output_type": "execute_result"
    }
   ],
   "source": [
    "# Otra forma de hacer \"reshape\"\n",
    "np.reshape(arr, (2,6))"
   ]
  },
  {
   "cell_type": "code",
   "execution_count": 12,
   "id": "02979dd0-9515-4ce3-bd01-178782b22fc6",
   "metadata": {},
   "outputs": [
    {
     "name": "stdout",
     "output_type": "stream",
     "text": [
      "[[3 2 9]\n",
      " [5 6 8]\n",
      " [7 7 9]\n",
      " [9 7 0]]\n"
     ]
    }
   ],
   "source": [
    "# podemos observar que el array original no cambia su \"shape\"\n",
    "print(arr)"
   ]
  },
  {
   "cell_type": "code",
   "execution_count": 13,
   "id": "098af373-175f-430e-a491-0a0e416b49fd",
   "metadata": {},
   "outputs": [
    {
     "data": {
      "text/plain": [
       "array([[ 22,  34,   1],\n",
       "       [-43,   0,  66]])"
      ]
     },
     "execution_count": 13,
     "metadata": {},
     "output_type": "execute_result"
    }
   ],
   "source": [
    "# convertir una lista en ndarray\n",
    "lista = [22, 34, 1, -43, 0, 66]\n",
    "np.array(lista).reshape(2,3)"
   ]
  },
  {
   "cell_type": "code",
   "execution_count": 14,
   "id": "ab6a69e4-b46c-4874-8aef-a409294acf9a",
   "metadata": {},
   "outputs": [
    {
     "data": {
      "text/plain": [
       "array([[ 0,  1,  2,  3],\n",
       "       [ 4,  5,  6,  7],\n",
       "       [ 8,  9, 10, 11],\n",
       "       [12, 13, 14, 15]])"
      ]
     },
     "execution_count": 14,
     "metadata": {},
     "output_type": "execute_result"
    }
   ],
   "source": [
    "# Dieciséis números distribuidos entre 0 y 15 (le llama rangos)\n",
    "np.linspace(0, 15, 16, dtype=int).reshape(4,4)"
   ]
  },
  {
   "cell_type": "code",
   "execution_count": 15,
   "id": "c5e61c5f-e923-494c-8746-855535237eff",
   "metadata": {},
   "outputs": [
    {
     "data": {
      "text/plain": [
       "(4, 3)"
      ]
     },
     "execution_count": 15,
     "metadata": {},
     "output_type": "execute_result"
    }
   ],
   "source": [
    "# para saber el \"shape\" de un ndarray\n",
    "arr.shape"
   ]
  },
  {
   "cell_type": "code",
   "execution_count": 16,
   "id": "d2df9f06-7644-4f53-9e5d-deb5c0c4a4ee",
   "metadata": {},
   "outputs": [
    {
     "data": {
      "text/plain": [
       "12"
      ]
     },
     "execution_count": 16,
     "metadata": {},
     "output_type": "execute_result"
    }
   ],
   "source": [
    "# para conocer el tamaño (cantidad de elemntos)\n",
    "arr.size"
   ]
  },
  {
   "cell_type": "markdown",
   "id": "5ada1b30-6710-41fe-98c1-cfc3a2eee4ba",
   "metadata": {},
   "source": [
    "### Operaciones con ndarrays"
   ]
  },
  {
   "cell_type": "code",
   "execution_count": 17,
   "id": "1eeb69c4-0e36-432c-ad18-832b7f021c88",
   "metadata": {},
   "outputs": [
    {
     "data": {
      "text/plain": [
       "array([5, 5, 5])"
      ]
     },
     "execution_count": 17,
     "metadata": {},
     "output_type": "execute_result"
    }
   ],
   "source": [
    "# suma de arrays\n",
    "arr1 = np.array([2,2,2])\n",
    "arr2 = np.array([3,3,3])\n",
    "\n",
    "arr1 + arr2"
   ]
  },
  {
   "cell_type": "code",
   "execution_count": 18,
   "id": "8c9761e8-bffe-4a65-a5ee-e67e814b8dea",
   "metadata": {},
   "outputs": [
    {
     "data": {
      "text/plain": [
       "array([-1, -1, -1])"
      ]
     },
     "execution_count": 18,
     "metadata": {},
     "output_type": "execute_result"
    }
   ],
   "source": [
    "# resta de arrays\n",
    "arr1 - arr2"
   ]
  },
  {
   "cell_type": "code",
   "execution_count": 19,
   "id": "1d7408c1-c441-49f1-986c-ef3d95d75a22",
   "metadata": {},
   "outputs": [
    {
     "data": {
      "text/plain": [
       "array([6, 6, 6])"
      ]
     },
     "execution_count": 19,
     "metadata": {},
     "output_type": "execute_result"
    }
   ],
   "source": [
    "# multiplicación de arrays\n",
    "arr1 * arr2"
   ]
  },
  {
   "cell_type": "code",
   "execution_count": 20,
   "id": "f00c6b32-6d9e-4598-8f7f-09dc7bf53457",
   "metadata": {},
   "outputs": [
    {
     "data": {
      "text/plain": [
       "array([0.66666667, 0.66666667, 0.66666667])"
      ]
     },
     "execution_count": 20,
     "metadata": {},
     "output_type": "execute_result"
    }
   ],
   "source": [
    "# división de arrays\n",
    "arr1 / arr2"
   ]
  },
  {
   "cell_type": "markdown",
   "id": "a17c2b96-e8ea-4a7e-ab1f-7a15892c7ace",
   "metadata": {},
   "source": [
    "### Funciones especiales con arrays\n",
    "\n",
    "Dado el siguiente array:"
   ]
  },
  {
   "cell_type": "code",
   "execution_count": 21,
   "id": "eb648b2f-aade-485d-a9c7-211387c5aadf",
   "metadata": {},
   "outputs": [
    {
     "data": {
      "text/plain": [
       "array([[3, 2, 9],\n",
       "       [5, 6, 8],\n",
       "       [7, 7, 9],\n",
       "       [9, 7, 0]])"
      ]
     },
     "execution_count": 21,
     "metadata": {},
     "output_type": "execute_result"
    }
   ],
   "source": [
    "arr"
   ]
  },
  {
   "cell_type": "markdown",
   "id": "4e405292-9df2-43a3-900d-fd3869fdabdb",
   "metadata": {},
   "source": [
    "Calculamos:"
   ]
  },
  {
   "cell_type": "code",
   "execution_count": 22,
   "id": "7836aa38-0a21-412d-99ec-b35f0742cfc5",
   "metadata": {},
   "outputs": [
    {
     "data": {
      "text/plain": [
       "6.0"
      ]
     },
     "execution_count": 22,
     "metadata": {},
     "output_type": "execute_result"
    }
   ],
   "source": [
    "# media aritmética\n",
    "arr.mean()"
   ]
  },
  {
   "cell_type": "code",
   "execution_count": 23,
   "id": "7575daa5-10f3-407f-b916-79958fbac337",
   "metadata": {},
   "outputs": [
    {
     "data": {
      "text/plain": [
       "9"
      ]
     },
     "execution_count": 23,
     "metadata": {},
     "output_type": "execute_result"
    }
   ],
   "source": [
    "# valor máximo\n",
    "arr.max()"
   ]
  },
  {
   "cell_type": "code",
   "execution_count": 24,
   "id": "cd518b1b-1daa-4ecf-983b-f46d2d167f51",
   "metadata": {},
   "outputs": [
    {
     "data": {
      "text/plain": [
       "0"
      ]
     },
     "execution_count": 24,
     "metadata": {},
     "output_type": "execute_result"
    }
   ],
   "source": [
    "# valor mínimo\n",
    "arr.min()"
   ]
  },
  {
   "cell_type": "code",
   "execution_count": 25,
   "id": "59ae6b95-db61-4644-81d1-79f7eb30f14f",
   "metadata": {},
   "outputs": [
    {
     "data": {
      "text/plain": [
       "72"
      ]
     },
     "execution_count": 25,
     "metadata": {},
     "output_type": "execute_result"
    }
   ],
   "source": [
    "# suma todos sus elementos\n",
    "arr.sum()"
   ]
  },
  {
   "cell_type": "markdown",
   "id": "c8b0b3bf-565a-42fe-8c87-ce1eff950458",
   "metadata": {},
   "source": [
    "### Accediendo a los elementos del ndarray"
   ]
  },
  {
   "cell_type": "code",
   "execution_count": 26,
   "id": "ac712730-fa00-4d09-b09c-a290fabcc928",
   "metadata": {},
   "outputs": [
    {
     "data": {
      "text/plain": [
       "9"
      ]
     },
     "execution_count": 26,
     "metadata": {},
     "output_type": "execute_result"
    }
   ],
   "source": [
    "arr[2][2]"
   ]
  },
  {
   "cell_type": "code",
   "execution_count": 27,
   "id": "4668cd45-ae48-4de4-ba87-cd92c7875d4a",
   "metadata": {},
   "outputs": [
    {
     "data": {
      "text/plain": [
       "9"
      ]
     },
     "execution_count": 27,
     "metadata": {},
     "output_type": "execute_result"
    }
   ],
   "source": [
    "arr[0,2]"
   ]
  },
  {
   "cell_type": "code",
   "execution_count": 28,
   "id": "2e963870-e246-46c9-b864-273cf8215c11",
   "metadata": {},
   "outputs": [
    {
     "data": {
      "text/plain": [
       "array([[2, 9],\n",
       "       [6, 8]])"
      ]
     },
     "execution_count": 28,
     "metadata": {},
     "output_type": "execute_result"
    }
   ],
   "source": [
    "# submatriz 1,2 - 2,3\n",
    "arr[0:2,1::]"
   ]
  },
  {
   "cell_type": "markdown",
   "id": "98bc3daa-3aec-48f6-be40-c65e7b9f8478",
   "metadata": {},
   "source": [
    "### Desenvolviendo un array multidimensional"
   ]
  },
  {
   "cell_type": "code",
   "execution_count": 29,
   "id": "b0cd2404-fcff-4fa3-9504-39668af5373c",
   "metadata": {},
   "outputs": [
    {
     "data": {
      "text/plain": [
       "array([3, 2, 9, 5, 6, 8, 7, 7, 9, 9, 7, 0])"
      ]
     },
     "execution_count": 29,
     "metadata": {},
     "output_type": "execute_result"
    }
   ],
   "source": [
    "arr.ravel()"
   ]
  }
 ],
 "metadata": {
  "kernelspec": {
   "display_name": "Python 3 (ipykernel)",
   "language": "python",
   "name": "python3"
  },
  "language_info": {
   "codemirror_mode": {
    "name": "ipython",
    "version": 3
   },
   "file_extension": ".py",
   "mimetype": "text/x-python",
   "name": "python",
   "nbconvert_exporter": "python",
   "pygments_lexer": "ipython3",
   "version": "3.10.12"
  }
 },
 "nbformat": 4,
 "nbformat_minor": 5
}

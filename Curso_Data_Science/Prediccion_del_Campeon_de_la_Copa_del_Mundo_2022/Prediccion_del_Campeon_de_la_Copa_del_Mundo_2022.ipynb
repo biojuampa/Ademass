{
 "cells": [
  {
   "attachments": {},
   "cell_type": "markdown",
   "id": "d81db742-8b2d-4bb3-9b9b-96764ead8232",
   "metadata": {},
   "source": [
    "# **Proyecto Data Science From Scratch**\n",
    "\n",
    "## Predicción del Campeón de la Copa del Mundo 2022\n",
    "\n",
    "En este proyecto intentaremos predecir al campeón de fútbol de la Copa del Mundo 2022 a partir\n",
    "de los **datos históricos** que recolectaremos, limpiaremos y organizaremos para realizar,\n",
    "posteriormente, la predicción del campeón de mundo 2022. Para ello utilizaremos la [Distribución\n",
    "de Poisson](https://es.wikipedia.org/wiki/Distribuci%C3%B3n_de_Poisson)"
   ]
  },
  {
   "cell_type": "markdown",
   "id": "c9f75f68-6e02-4c74-b4a9-2b988e8679d5",
   "metadata": {},
   "source": [
    "# Fases de un Proyecto de Data Science\n",
    "\n",
    "![Fases de un Proyecto de Data Science](./images/workflow.png)"
   ]
  },
  {
   "cell_type": "markdown",
   "id": "d6bc7cd5-ace2-4dad-92bd-9bbf8f73e90c",
   "metadata": {},
   "source": [
    "# Parte 1\n",
    "## Extracción de los grupos 2022"
   ]
  },
  {
   "cell_type": "code",
   "execution_count": 1,
   "id": "95245c81-dbf5-4f53-b94e-c79cc6bb5caa",
   "metadata": {},
   "outputs": [],
   "source": [
    "import pandas as pd"
   ]
  },
  {
   "cell_type": "code",
   "execution_count": 2,
   "id": "228e7991-77ba-47ce-b6bc-0e997883b8d8",
   "metadata": {},
   "outputs": [],
   "source": [
    "# Leo todas las tablas - Tablas vacías de Mundial 2022\n",
    "all_tables = pd.read_html('https://web.archive.org/web/20221115040351/https://en.wikipedia.org/wiki/2022_FIFA_World_Cup')"
   ]
  },
  {
   "cell_type": "code",
   "execution_count": 3,
   "id": "20bf5126-26b1-4642-8b20-2b389346d53c",
   "metadata": {
    "editable": true,
    "slideshow": {
     "slide_type": ""
    },
    "tags": []
   },
   "outputs": [],
   "source": [
    "# Leo las tablas que me interesan (Grupo A hasta Grupo H), las limpio y las guardo en una lista\n",
    "tables = []\n",
    "for i in range(12, 62, 7):\n",
    "    table = all_tables[i]\n",
    "\n",
    "    # corrijo las columnas\n",
    "    table.pop('Qualification')\n",
    "    table.rename(columns={'Teamvte': 'Team'}, inplace=True)\n",
    "    \n",
    "    tables.append(table)"
   ]
  },
  {
   "cell_type": "code",
   "execution_count": 4,
   "id": "66f81290-a342-483e-95d8-45c3ed3c6ea1",
   "metadata": {},
   "outputs": [],
   "source": [
    "# Creo un diccionario emparejando el 'grupo' con su respectiva 'tabla'\n",
    "groups = {}\n",
    "for i in range(0, len(tables)):\n",
    "    k = chr(65 + i)\n",
    "    v = tables[i]\n",
    "\n",
    "    groups[f'Group {k}'] = v"
   ]
  },
  {
   "cell_type": "code",
   "execution_count": 5,
   "id": "039ecccd-408a-46b7-8352-a902f2627f33",
   "metadata": {},
   "outputs": [],
   "source": [
    "import pickle"
   ]
  },
  {
   "cell_type": "code",
   "execution_count": 6,
   "id": "bf0102e5-a8c9-4240-bf1c-6c8f50dfe0c5",
   "metadata": {},
   "outputs": [],
   "source": [
    "# Guardo el diccionario de grupos serializado en disco\n",
    "with open('files/groups.dat', 'wb') as out:\n",
    "    pickle.dump(groups, out)"
   ]
  },
  {
   "cell_type": "markdown",
   "id": "2f023b41-4506-4de4-8732-3881a9461e4c",
   "metadata": {},
   "source": [
    "# Parte 2\n",
    "## Recolección de datos (todos los mundiales del 1930 al 2018)"
   ]
  },
  {
   "cell_type": "code",
   "execution_count": 7,
   "id": "952795eb-580e-4097-85a7-6e1c81477764",
   "metadata": {},
   "outputs": [],
   "source": [
    "import pandas as pd\n",
    "import requests\n",
    "from bs4 import BeautifulSoup"
   ]
  },
  {
   "cell_type": "code",
   "execution_count": 8,
   "id": "796b7ae1-cda1-41a1-814f-b4689aa16653",
   "metadata": {},
   "outputs": [],
   "source": [
    "def get_matches(url, year):\n",
    "    \"\"\"Obtiene todos los partidos jugados en un año determinado.\n",
    "    \n",
    "    Parameters\n",
    "    ----------\n",
    "    year : str or int\n",
    "      Año del mundial.\n",
    "    \n",
    "    Returns\n",
    "    -------\n",
    "    pandas.core.frame.DataFrame: Dataframe con el resultado de todos los equipos.\n",
    "        \n",
    "    \"\"\"\n",
    "        \n",
    "    response = requests.get(url)\n",
    "    content = response.text\n",
    "\n",
    "    # parser lxml\n",
    "    soup = BeautifulSoup(content, 'lxml')\n",
    "\n",
    "    # todos los partidos (encuentros)\n",
    "    matches = soup.find_all('div', class_='footballbox')\n",
    "    \n",
    "    home = []\n",
    "    score = []\n",
    "    away = []\n",
    "    for match in matches:\n",
    "        home.append(match.find('th', class_='fhome').get_text().replace('\\xa0', ''))\n",
    "        score.append(match.find('th', class_='fscore').get_text().replace(' (a.e.t.)', ''))\n",
    "        away.append(match.find('th', class_='faway').get_text().replace('\\xa0', ''))\n",
    "\n",
    "    df = pd.DataFrame({\n",
    "        'Home': home,\n",
    "        'Score': score,\n",
    "        'Away': away\n",
    "    })\n",
    "\n",
    "    df['Year'] = year\n",
    "\n",
    "    return df"
   ]
  },
  {
   "cell_type": "code",
   "execution_count": 9,
   "id": "ad5c077a-e2ba-44c1-8e6e-b9ed43465787",
   "metadata": {},
   "outputs": [],
   "source": [
    "# Obtengo los dataframes de todos los mundiales (todos los años)\n",
    "matches_list = []\n",
    "for year in range(1930, 2019, 4):\n",
    "    # elimino los años que no se jugaron mundiales\n",
    "    if year == 1942 or year == 1946:\n",
    "        continue\n",
    "\n",
    "    # URL de la cual voy a extraer los datos de los partidos\n",
    "    url = f'https://en.wikipedia.org/wiki/{year}_FIFA_World_Cup'\n",
    "    \n",
    "    matches_list.append(get_matches(url, year))"
   ]
  },
  {
   "cell_type": "code",
   "execution_count": 10,
   "id": "3266f1a8-b27f-44f0-b89c-93c5e291b4c5",
   "metadata": {},
   "outputs": [],
   "source": [
    "# unifico todos los mundiales en un único dataframe\n",
    "df_fifa = pd.concat(matches_list, ignore_index=True)\n",
    "\n",
    "# los exporto a un archivo csv\n",
    "df_fifa.to_csv('files/fifa_worldcup_historical_data.csv', index=False)"
   ]
  },
  {
   "cell_type": "markdown",
   "id": "a870dd68-d618-4f53-a68a-f9a43fe6a438",
   "metadata": {},
   "source": [
    "## Extracción del Fixture 2022"
   ]
  },
  {
   "cell_type": "code",
   "execution_count": 11,
   "id": "b310c47c-a0f1-41e1-8236-7262cd6a6e7c",
   "metadata": {},
   "outputs": [],
   "source": [
    "# URL de la cual voy a extraer los datos de los partidos\n",
    "url = 'https://web.archive.org/web/20221115040351/https://en.wikipedia.org/wiki/2022_FIFA_World_Cup'\n",
    "\n",
    "# año del mundial sin datos (2022)\n",
    "year = 2022\n",
    "\n",
    "# extraigo los partidos (encuentros) que se disputarán en 2022\n",
    "df_fixture = get_matches(url, year)\n",
    "\n",
    "# lo exporto a un archivo csv\n",
    "df_fixture.to_csv('files/fifa_worldcup_fixture_2022.csv', index=False)"
   ]
  },
  {
   "cell_type": "markdown",
   "id": "5aa029b5-71a5-453e-a0bc-86e2f9a7d961",
   "metadata": {},
   "source": [
    "# Parte 3\n",
    "## Obtención de los datos faltantes con la librería _Selenium_"
   ]
  },
  {
   "cell_type": "code",
   "execution_count": 12,
   "id": "86b3ea4f-12db-4e30-96af-ccf1dde2822a",
   "metadata": {},
   "outputs": [],
   "source": [
    "import pandas as pd\n",
    "from time import sleep\n",
    "\n",
    "from selenium import webdriver\n",
    "from selenium.webdriver.firefox.service import Service"
   ]
  },
  {
   "cell_type": "code",
   "execution_count": 13,
   "id": "8e22c9cf-28ee-4ee3-b4a0-6b7b76f1ccce",
   "metadata": {},
   "outputs": [],
   "source": [
    "def extract_matches(driver, year):\n",
    "    \"\"\"Extrae los partidos \"faltantes\" de la Copa del Mundo en un año determinado.\n",
    "\n",
    "    Args:\n",
    "        driver (selenium webdriver): webdriver de selenium instanciado con el servicio\n",
    "        year (str or int): año del mundial\n",
    "\n",
    "    Returns:\n",
    "        pandas.core.frame.dataframe: dataframe con los partidos (equipos y resultados)\n",
    "    \"\"\"\n",
    "\n",
    "    URL = f'https://en.wikipedia.org/wiki/{year}_FIFA_World_Cup'\n",
    "    \n",
    "    driver.get(URL)\n",
    "\n",
    "    matches = driver.find_elements('xpath', '//tr[@style=\"font-size:90%\"]')\n",
    "    # matches = driver.find_elements('xpath', '//tr[@itemprop=\"name\"]')\n",
    "\n",
    "    home = []\n",
    "    score = []\n",
    "    away = []\n",
    "    for match in matches:\n",
    "        home.append(match.find_element('xpath', './td[1]').text.replace('\\xa0', ''))\n",
    "        score.append(match.find_element('xpath', './td[2]').text.replace(' (a.e.t.)', ''))\n",
    "        away.append(match.find_element('xpath', './td[3]').text.replace('\\xa0', ''))\n",
    "\n",
    "    df = pd.DataFrame({\n",
    "        'Home': home,\n",
    "        'Score': score,\n",
    "        'Away': away\n",
    "    })\n",
    "\n",
    "    df['Year'] = year\n",
    "\n",
    "    return df"
   ]
  },
  {
   "cell_type": "code",
   "execution_count": null,
   "id": "40f4f095-42e6-4548-9c88-0925c6057a43",
   "metadata": {},
   "outputs": [],
   "source": [
    "service = Service(executable_path='./driver/geckodriver')\n",
    "driver = webdriver.Firefox(service=service)\n",
    "\n",
    "df_list = []\n",
    "for year in range(1930, 2019, 4):\n",
    "    # en estos años no se jugaron mundiales\n",
    "    if year == 1942 or year == 1946:\n",
    "        continue\n",
    "\n",
    "    df = extract_matches(driver, year)\n",
    "    df_list.append(df)\n",
    "    \n",
    "    sleep(1)\n",
    "\n",
    "driver.close()\n",
    "\n",
    "df_fifa = pd.concat(df_list, ignore_index=True)\n",
    "df_fifa.to_csv('files/fifa_worldcup_missing_data.csv', index=False)"
   ]
  },
  {
   "cell_type": "markdown",
   "id": "6e8f7737-907e-40a9-861f-5a7fafd54516",
   "metadata": {},
   "source": [
    "# Parte 4\n",
    "## Limpieza de los datos"
   ]
  },
  {
   "cell_type": "code",
   "execution_count": null,
   "id": "e668db0c-821f-4461-b6de-bcf84c2b146f",
   "metadata": {},
   "outputs": [],
   "source": [
    "import pandas as pd"
   ]
  },
  {
   "cell_type": "code",
   "execution_count": null,
   "id": "31e274d6-7fdb-4c32-ac19-30743d6fbe7e",
   "metadata": {},
   "outputs": [],
   "source": [
    "historical_data = pd.read_csv('files/fifa_worldcup_historical_data.csv')\n",
    "missing_data = pd.read_csv('files/fifa_worldcup_missing_data.csv')\n",
    "fixture = pd.read_csv('files/fifa_worldcup_fixture_2022.csv')"
   ]
  },
  {
   "cell_type": "markdown",
   "id": "afc4e5d3-e945-4f37-900c-778ea9469d70",
   "metadata": {},
   "source": [
    "## Limpiando el fixture"
   ]
  },
  {
   "cell_type": "code",
   "execution_count": null,
   "id": "a8752018-49b3-4a3a-bf27-330a38b6c024",
   "metadata": {},
   "outputs": [],
   "source": [
    "# Esto en mi caso no es necesario porque ya lo limpié al momento de extraer la data\n",
    "# Sin embargo lo dejo documentado como se hace en el curso porque son métodos interesantes\n",
    "fixture['Home'] = fixture['Home'].str.strip()\n",
    "fixture['Away'] = fixture['Away'].str.strip()"
   ]
  },
  {
   "cell_type": "markdown",
   "id": "a4fe9f91-0d7f-4ae1-8aa5-786ee693bcef",
   "metadata": {},
   "source": [
    "## Limpiando _missing data_"
   ]
  },
  {
   "cell_type": "code",
   "execution_count": null,
   "id": "a1c936fa-b075-4b90-abd4-31e124444841",
   "metadata": {},
   "outputs": [],
   "source": [
    "# Esto está mal en el curso (es incorrecto), y en mi caso no es\n",
    "# necesario, sin embargo dejo documentado lo que se hizo.\n",
    "\n",
    "# para saber si hay datos nulos (no son los NaN como se dice)\n",
    "missing_data[missing_data['Home'].isnull()]\n",
    "# para eliminarlos\n",
    "missing_data.dropna(inplace=True)"
   ]
  },
  {
   "cell_type": "markdown",
   "id": "1d0f4bba-8e36-4675-9139-8b1104b36711",
   "metadata": {},
   "source": [
    "## Agrupando y limpiando toda la data (historical y missing)"
   ]
  },
  {
   "cell_type": "code",
   "execution_count": null,
   "id": "ee503e87-5743-42b7-8594-eaef6a8cb2bf",
   "metadata": {},
   "outputs": [],
   "source": [
    "# agrupo los dataframes con datos de los partidos\n",
    "all_data = pd.concat([historical_data, missing_data], ignore_index=True)\n",
    "\n",
    "# Esto en mi caso no es necesario porque ya lo limpié al momento de extraer la data\n",
    "# Sin embargo lo dejo documentado como se hace en el curso porque son métodos interesantes\n",
    "all_data['Home'] = all_data['Home'].str.strip()\n",
    "all_data['Away'] = all_data['Away'].str.strip()\n",
    "\n",
    "# elimino valores nulos\n",
    "all_data.dropna(inplace=True)\n",
    "\n",
    "# elimino valores duplicados\n",
    "all_data.drop_duplicates(inplace=True)\n",
    "\n",
    "# ordeno todos los datos por los valores de la columna 'Year' (de menor a mayor)\n",
    "all_data.sort_values(by='Year', inplace=True)"
   ]
  },
  {
   "cell_type": "code",
   "execution_count": null,
   "id": "360a8672-1f69-4274-87e5-ecea79f6e6ae",
   "metadata": {},
   "outputs": [],
   "source": [
    "# Hay un partido que no se jugó\n",
    "# busco el index (sé cual es porque se indica en el curso)\n",
    "index_to_drop = all_data[all_data['Home'].str.contains('Sweden') &\n",
    "                         all_data['Away'].str.contains('Austria')].index\n",
    "\n",
    "# elimino el partido que no se jugó (por el índice)\n",
    "all_data.drop(index_to_drop, inplace=True)"
   ]
  },
  {
   "cell_type": "code",
   "execution_count": null,
   "id": "8d313991-0f03-4406-b68c-5a46a3cb38ff",
   "metadata": {},
   "outputs": [],
   "source": [
    "# ahora debo terminar de limpiar la columna 'Score'\n",
    "# usamos Regex para encontrar las filas que contienen datos no deseados\n",
    "# \n",
    "# Nota: el circunflejo se usa para indicar NOT y los corchetes indican REGEX\n",
    "# \n",
    "all_data[all_data['Score'].str.contains('[^\\d–]')] # el guión lo copio del df (no es el convencional)"
   ]
  },
  {
   "cell_type": "code",
   "execution_count": null,
   "id": "3b82ea84-b7f2-43ce-80da-0f8868fef45f",
   "metadata": {},
   "outputs": [],
   "source": [
    "# como se ve arriba, hay 4 campos del score que contienen caracteres adicionales\n",
    "# así que los elimino haciendo un reemplazo por cadena vacía\n",
    "all_data['Score'] = all_data['Score'].str.replace('[^\\d–]', '', regex=True)"
   ]
  },
  {
   "cell_type": "markdown",
   "id": "ae67976f-b57a-4db8-86d0-123857c10d82",
   "metadata": {},
   "source": [
    "## Acondicionando los datos para poder procesarlos"
   ]
  },
  {
   "cell_type": "code",
   "execution_count": null,
   "id": "3ab8934f-b7bb-4a98-a6a1-7ab8a04267dc",
   "metadata": {},
   "outputs": [],
   "source": [
    "# Separo los datos numéricos de la columna 'Score' en dos nuevas columnas y las inserto en el df\n",
    "all_data[['Home Goals', 'Away Goals']] = all_data['Score'].str.split('[^\\d]', expand=True)\n",
    "\n",
    "# elimino la columna 'Score' porque ya no la necesito\n",
    "all_data.drop('Score', axis=1, inplace=True)\n",
    "\n",
    "# cambio los datos de los 'Goals' a tipo integer\n",
    "all_data = all_data.astype({\n",
    "    'Home Goals': int,\n",
    "    'Away Goals': int,\n",
    "    'Year': int # no es neccesario, pero ya que está lo pongo\n",
    "})\n",
    "\n",
    "# renombro las columnas para más claridad\n",
    "all_data.rename(columns={'Home': 'Home Team', 'Away': 'Away Team'}, inplace=True)"
   ]
  },
  {
   "cell_type": "code",
   "execution_count": null,
   "id": "dedf2910-204a-436d-a717-b533cb98ce5b",
   "metadata": {},
   "outputs": [],
   "source": [
    "# aquí veo como se cambiaron los tipos del df\n",
    "all_data.dtypes"
   ]
  },
  {
   "cell_type": "code",
   "execution_count": null,
   "id": "e65a1bd4-11ef-4130-99b8-c125d22b49e4",
   "metadata": {},
   "outputs": [],
   "source": [
    "# agrego una última columna con los goles totales del partido (sólo por gusto)\n",
    "# es interesante obervar el hecho de que no podría hacerlo si no hubiera\n",
    "# cambiado los tipos de datos\n",
    "all_data['Total Goals'] = all_data['Home Goals'] + all_data['Away Goals']"
   ]
  },
  {
   "cell_type": "code",
   "execution_count": null,
   "id": "bd6ea27d-c09b-44b5-b75c-ac772d8fc890",
   "metadata": {},
   "outputs": [],
   "source": [
    "# reorganizo las columnas enviando al final del df a 'Year'\n",
    "all_data = all_data.reindex(columns=['Home Team', 'Away Team', 'Home Goals', 'Away Goals', 'Total Goals', 'Year'])"
   ]
  },
  {
   "cell_type": "markdown",
   "id": "8adb428c-74bf-49eb-a2e7-d5d0d0f3f60d",
   "metadata": {},
   "source": [
    "## Comprobación de los datos"
   ]
  },
  {
   "cell_type": "code",
   "execution_count": null,
   "id": "d5b1eaee-a5e4-4aab-a071-fd13ed0536c3",
   "metadata": {},
   "outputs": [],
   "source": [
    "# Compruebo que la cantidad de datos sea correcto (cantidad de partidos por años de mudial)\n",
    "print('Year    ', 'Matches Played')\n",
    "print('----    ', '--------------')\n",
    "\n",
    "for year in range(1930, 2019, 4):\n",
    "    if year == 1942 or year == 1946:\n",
    "        continue\n",
    "        \n",
    "    matches = all_data[all_data['Year'] == year]\n",
    "    matches_played = len(matches)\n",
    "    \n",
    "    print(year, ' ' * 8, matches_played)"
   ]
  },
  {
   "cell_type": "markdown",
   "id": "00ff217a-cc38-4b9a-9967-739cb010b07a",
   "metadata": {},
   "source": [
    "## Guardo los dataframes limpios en el disco (formato csv)"
   ]
  },
  {
   "cell_type": "code",
   "execution_count": null,
   "id": "7676a5b0-b385-4877-b950-a14239b17489",
   "metadata": {},
   "outputs": [],
   "source": [
    "all_data.to_csv('files/clean_fifa_worldcup_historical_data.csv', index=False)\n",
    "fixture.to_csv('files/clean_fifa_worldcup_fixture_2022.csv', index=False)"
   ]
  },
  {
   "cell_type": "markdown",
   "id": "8cc1bd61-1d13-4727-a72d-4090c20d3100",
   "metadata": {},
   "source": [
    "# Parte 5\n",
    "## Creación del modelo (usando la distribución de Poisson)"
   ]
  },
  {
   "cell_type": "code",
   "execution_count": null,
   "id": "fff1db51-50ae-4a43-b0c3-4c4cb7361eba",
   "metadata": {},
   "outputs": [],
   "source": [
    "import pandas as pd\n",
    "import pickle\n",
    "from scipy.stats import poisson"
   ]
  },
  {
   "cell_type": "code",
   "execution_count": null,
   "id": "1d840f0c-caef-4e5e-809f-c738ef7195b2",
   "metadata": {},
   "outputs": [],
   "source": [
    "# primero recuperamos los datos limpios guardados a disco\n",
    "historical_data = pd.read_csv('files/clean_fifa_worldcup_historical_data.csv')\n",
    "fixture = pd.read_csv('files/clean_fifa_worldcup_fixture_2022.csv')\n",
    "\n",
    "with open('files/groups.dat', 'rb') as file:\n",
    "    tables = pickle.load(file)"
   ]
  },
  {
   "cell_type": "code",
   "execution_count": null,
   "id": "4c189ac5-d455-4882-9d3e-be0637569dce",
   "metadata": {},
   "outputs": [],
   "source": [
    "tables['Group A']"
   ]
  },
  {
   "cell_type": "markdown",
   "id": "2758d330-4f24-43dc-9a0e-e9b45e5145bb",
   "metadata": {},
   "source": [
    "## Calcular el Team Strength (poderío del equipo)"
   ]
  },
  {
   "cell_type": "code",
   "execution_count": null,
   "id": "7efa3439-2ff8-4a55-ac3a-7ace68ab8096",
   "metadata": {},
   "outputs": [],
   "source": [
    "# ahora crearemos un df unificado conteniendo 3 columnas\n",
    "# 1. 'Equipo'  2. 'Goles Anotados'  '3. Goles Recbidos'\n",
    "# \n",
    "# primero separamos y renombramos las columnas en 2 dataframes\n",
    "home_data = historical_data[['Home Team', 'Home Goals', 'Away Goals']]\n",
    "away_data = historical_data[['Away Team', 'Home Goals', 'Away Goals']]\n",
    "\n",
    "home_data = home_data.rename(columns={'Home Team': 'Team', 'Home Goals': 'Scored Goals', 'Away Goals': 'Conceded Goals'})\n",
    "away_data = away_data.rename(columns={'Away Team': 'Team', 'Away Goals': 'Scored Goals', 'Home Goals': 'Conceded Goals'})"
   ]
  },
  {
   "cell_type": "code",
   "execution_count": null,
   "id": "025390b7-252b-4fca-8d50-bd3a2bf1ab1c",
   "metadata": {},
   "outputs": [],
   "source": [
    "# concateno los dfs y agrupo por 'Team'\n",
    "data = pd.concat([home_data, away_data], ignore_index=True)\n",
    "\n",
    "# calculo el promedio de goles de c/u\n",
    "team_strength = data.groupby('Team').mean()"
   ]
  },
  {
   "cell_type": "code",
   "execution_count": null,
   "id": "620e9ebe-ba3c-4f17-99e5-0b04a7e554bb",
   "metadata": {},
   "outputs": [],
   "source": [
    "team_strength"
   ]
  },
  {
   "cell_type": "markdown",
   "id": "c3a94afa-3e3f-42ca-a9c4-e2f8d03aed9f",
   "metadata": {},
   "source": [
    "# Usando Poisson"
   ]
  },
  {
   "attachments": {},
   "cell_type": "markdown",
   "id": "69c4190f-787e-4859-8942-ddb12d8a20b9",
   "metadata": {},
   "source": [
    "## Cosideraciones sobre la distribución de poisson\n",
    "\n",
    "![Descripción de la distribución de Poisson](./images/poisson1.png)\n",
    "![Condiciones para usar Poisson](./images/poisson2.png)\n",
    "![Fórmula de Poisson](./images/poisson3.png)"
   ]
  },
  {
   "cell_type": "markdown",
   "id": "694eab2e-855b-4122-b8d0-06499b54bb67",
   "metadata": {},
   "source": [
    "## Function predict_points"
   ]
  },
  {
   "cell_type": "code",
   "execution_count": null,
   "id": "f3b3f22c-390b-430e-924b-72217e7a6ae3",
   "metadata": {},
   "outputs": [],
   "source": [
    "def predict_points(home, away):\n",
    "    if home in team_strength.index and away in team_strength.index:\n",
    "        # scored_goals * conceded_goals\n",
    "        home_lamb = team_strength.at[home, 'Scored Goals'] * team_strength.at[away, 'Conceded Goals']\n",
    "        away_lamb = team_strength.at[away, 'Scored Goals'] * team_strength.at[home, 'Conceded Goals']\n",
    "        \n",
    "        prob_home, prob_away, prob_draw = 0, 0, 0\n",
    "        for home_goals in range(0, 11):\n",
    "            for away_goals in range(0,11):\n",
    "                probability = poisson.pmf(home_goals, home_lamb) * poisson.pmf(away_goals, away_lamb)\n",
    "\n",
    "                if home_goals > away_goals:\n",
    "                    prob_home += probability\n",
    "                elif home_goals < away_goals:\n",
    "                    prob_away += probability\n",
    "                else:\n",
    "                    prob_draw += probability\n",
    "\n",
    "        home_points = 3 * prob_home + prob_draw\n",
    "        away_points = 3 * prob_away + prob_draw\n",
    "\n",
    "        return (home_points, away_points)\n",
    "\n",
    "    else: \n",
    "        return (0, 0)"
   ]
  },
  {
   "cell_type": "code",
   "execution_count": null,
   "id": "31905f03-012d-4b82-a417-851ea2993292",
   "metadata": {},
   "outputs": [],
   "source": [
    "predict_points('Argentina', 'Mexico')"
   ]
  },
  {
   "cell_type": "markdown",
   "id": "1bb0ef8d-3d95-47b0-823b-1942e1b11690",
   "metadata": {},
   "source": [
    "# Prediciendo el Mundial 2022\n",
    "## Fase de grupo"
   ]
  },
  {
   "cell_type": "code",
   "execution_count": null,
   "id": "515d5c70-5ec3-4ad7-b936-1fca498f430a",
   "metadata": {},
   "outputs": [],
   "source": [
    "# divido el fixture en grupo, octavos, cuartos, etc\n",
    "fixture_group_48 = fixture[:48].copy()\n",
    "fixture_knockout = fixture[48:56].copy()\n",
    "fixture_quarter = fixture[56:60].copy()\n",
    "fixture_semi = fixture[60:62].copy()\n",
    "fixture_final = fixture[62:].copy()"
   ]
  },
  {
   "cell_type": "code",
   "execution_count": null,
   "id": "7bc6ffa0-956a-422c-9b98-2c0b0aa0eb39",
   "metadata": {},
   "outputs": [],
   "source": [
    "# un ejemplo de la fragmentación del fixture (en este caso los cuartos de final)\n",
    "fixture_quarter"
   ]
  },
  {
   "cell_type": "code",
   "execution_count": null,
   "id": "a035ffeb-bb53-4a1c-af7c-cf73df8ebe6b",
   "metadata": {},
   "outputs": [],
   "source": [
    "# interesante observar que esto me devuelve un ndarray (numpy)\n",
    "# los nombres de la columna 'Team' del 'grupo A'\n",
    "tables['Group A']['Team'].values"
   ]
  },
  {
   "cell_type": "markdown",
   "id": "199557e3-a0bd-4602-890e-e98f7e3d8ec7",
   "metadata": {},
   "source": [
    "#### Esto es otro error en el curso que no fue tomado en cuenta (si bien no afectaría el resultado final, ya que Qatar no es tomado en cuenta en las predicciones por no tener data histórica)"
   ]
  },
  {
   "cell_type": "code",
   "execution_count": null,
   "id": "3b9cbccf-a170-4d0f-97d8-bbec1bf9c0f7",
   "metadata": {},
   "outputs": [],
   "source": [
    "# de lo anterior observamos que hay discrepancias de nombres entre\n",
    "# las tablas de Grupos y el Fixture. Específicamente con el nombre\n",
    "# 'Qatar' vs 'Qatar (H)' (fixture vs grupos)\n",
    "#\n",
    "# por tanto corregimos el nombre en el fixture (forma fácil)\n",
    "fixture_group_48.replace({'Qatar': 'Qatar (H)'}, inplace=True)\n",
    "\n",
    "# por tanto corregimos el nombre en el fixture (forma complicada)\n",
    "# for index, row in fixture_group_48.iterrows():\n",
    "#     if row['Home'] == 'Qatar':\n",
    "#         fixture_group_48.loc[index, 'Home'] = 'Qatar (H)'\n",
    "\n",
    "#     if row['Away'] == 'Qatar':\n",
    "#         fixture_group_48.loc[index, 'Away'] = 'Qatar (H)'"
   ]
  },
  {
   "cell_type": "code",
   "execution_count": null,
   "id": "402fcab4-1c51-4cec-b9bb-bfa4f229d2c9",
   "metadata": {},
   "outputs": [],
   "source": [
    "# predigo todos los partidos de la fase de grupo y actualizo sus respectivas tablas\n",
    "for group in tables:\n",
    "    group_table = tables[group]['Team'].values\n",
    "    group_matches = fixture_group_48[fixture_group_48['Home'].isin(group_table)]\n",
    "\n",
    "    for index, row in group_matches.iterrows():\n",
    "        home, away = row['Home'], row['Away']\n",
    "\n",
    "        home_points, away_points = predict_points(home, away)\n",
    "\n",
    "        tables[group]['Pts'] = tables[group]['Pts'].astype(float)\n",
    "        tables[group].loc[tables[group]['Team'] == home, 'Pts'] += home_points\n",
    "        tables[group].loc[tables[group]['Team'] == away, 'Pts'] += away_points\n",
    "\n",
    "    tables[group] = tables[group].sort_values('Pts', ascending=False).reset_index()\n",
    "    tables[group] = tables[group][['Team', 'Pts']]\n",
    "    \n",
    "    tables[group] = tables[group].round(0)\n",
    "    tables[group]['Pts'] = tables[group]['Pts'].astype(int)"
   ]
  },
  {
   "cell_type": "code",
   "execution_count": null,
   "id": "b12e2f0c-a217-447a-921f-8c3454550e00",
   "metadata": {},
   "outputs": [],
   "source": [
    "# así quedarían las tablas de puntos (diccionario)\n",
    "tables['Group A']"
   ]
  },
  {
   "cell_type": "markdown",
   "id": "c5522088-10b8-40a1-ab53-d9eed494d5bf",
   "metadata": {},
   "source": [
    "## Octavos"
   ]
  },
  {
   "cell_type": "code",
   "execution_count": null,
   "id": "166efda2-412e-4e5d-8987-c640e9225c69",
   "metadata": {},
   "outputs": [],
   "source": [
    "fixture_knockout"
   ]
  },
  {
   "cell_type": "code",
   "execution_count": null,
   "id": "aecf8117-3d1f-4d8f-8b17-664efdbcc0a7",
   "metadata": {},
   "outputs": [],
   "source": [
    "tables['Group A']"
   ]
  },
  {
   "cell_type": "code",
   "execution_count": null,
   "id": "e7d595cb-db6c-4713-9dd3-88b3be21d0a6",
   "metadata": {},
   "outputs": [],
   "source": [
    "# actualizo el fixture de octavos de final\n",
    "for group in tables:\n",
    "    winner = tables[group].loc[0, 'Team']\n",
    "    runners_up = tables[group].loc[1, 'Team']\n",
    "\n",
    "    fixture_knockout.replace({\n",
    "        f'Winners {group}': winner,\n",
    "        f'Runners-up {group}': runners_up\n",
    "    }, inplace=True)\n",
    "\n",
    "fixture_knockout"
   ]
  },
  {
   "cell_type": "code",
   "execution_count": null,
   "id": "85d4fd02-378b-4d07-99fc-9ba7fc1fc16f",
   "metadata": {},
   "outputs": [],
   "source": [
    "# función para obtener los ganadores de los octavos de final\n",
    "def get_winner(fix):\n",
    "    for index, row in fix.iterrows():\n",
    "        home, away = row['Home'], row['Away']\n",
    "\n",
    "        home_pts, away_pts = predict_points(home, away)\n",
    "\n",
    "        if home_pts > away_pts:\n",
    "            fix.loc[index, 'Winner'] = home\n",
    "        else:\n",
    "            fix.loc[index, 'Winner'] = away"
   ]
  },
  {
   "cell_type": "code",
   "execution_count": null,
   "id": "c8627101-5037-4871-9450-e6845d7f5093",
   "metadata": {},
   "outputs": [],
   "source": [
    "get_winner(fixture_knockout)\n",
    "fixture_knockout"
   ]
  },
  {
   "cell_type": "markdown",
   "id": "ebd9751b-65ae-4d1e-9fb9-e2e5ae4d4d5c",
   "metadata": {},
   "source": [
    "## Cuartos de final"
   ]
  },
  {
   "cell_type": "code",
   "execution_count": null,
   "id": "3ec9a7ec-9a3e-437d-88e4-3144337f3e4e",
   "metadata": {},
   "outputs": [],
   "source": [
    "fixture_quarter"
   ]
  },
  {
   "cell_type": "code",
   "execution_count": null,
   "id": "9d9842bd-106e-4f04-ab3d-79ecebb651b7",
   "metadata": {},
   "outputs": [],
   "source": [
    "def resolve_fixture(complete_fixture, unresolved_fixture):\n",
    "    for idx, row in complete_fixture.iterrows():\n",
    "        match, winner = row['Score'], row['Winner']\n",
    "        \n",
    "        unresolved_fixture.replace({f'Winners {match}': winner}, inplace=True)"
   ]
  },
  {
   "cell_type": "code",
   "execution_count": null,
   "id": "0eea97be-ad0c-45a4-8443-9bac64db2399",
   "metadata": {},
   "outputs": [],
   "source": [
    "resolve_fixture(fixture_knockout, fixture_quarter)\n",
    "get_winner(fixture_quarter)\n",
    "\n",
    "fixture_quarter"
   ]
  },
  {
   "cell_type": "code",
   "execution_count": null,
   "id": "d6d0ee32-458f-4bd8-aafb-2a1578188b8a",
   "metadata": {},
   "outputs": [],
   "source": [
    "resolve_fixture(fixture_quarter, fixture_semi)\n",
    "get_winner(fixture_semi)\n",
    "\n",
    "fixture_semi"
   ]
  },
  {
   "cell_type": "code",
   "execution_count": null,
   "id": "e92d236f-b10e-493b-bbd4-7b8afb2968dd",
   "metadata": {},
   "outputs": [],
   "source": [
    "# obtengo el ganador (no resuelvo el segundo y tercer lugar)\n",
    "resolve_fixture(fixture_semi, fixture_final)\n",
    "\n",
    "# para no tener que armar una función solo para modificar una línea del df\n",
    "# para los tercero y cuarto puesto, lo modifico manualmente\n",
    "fixture_final.replace({\n",
    "    'Losers Match 61': 'Netherlands',\n",
    "    'Losers Match 62': 'Portugal'\n",
    "}, inplace=True)\n",
    "\n",
    "get_winner(fixture_final)\n",
    "\n",
    "fixture_final"
   ]
  }
 ],
 "metadata": {
  "kernelspec": {
   "display_name": "Python 3 (ipykernel)",
   "language": "python",
   "name": "python3"
  },
  "language_info": {
   "codemirror_mode": {
    "name": "ipython",
    "version": 3
   },
   "file_extension": ".py",
   "mimetype": "text/x-python",
   "name": "python",
   "nbconvert_exporter": "python",
   "pygments_lexer": "ipython3",
   "version": "3.11.6"
  }
 },
 "nbformat": 4,
 "nbformat_minor": 5
}

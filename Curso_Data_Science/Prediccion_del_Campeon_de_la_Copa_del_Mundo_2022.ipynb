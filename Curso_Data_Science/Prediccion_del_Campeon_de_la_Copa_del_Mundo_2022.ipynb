{
 "cells": [
  {
   "attachments": {},
   "cell_type": "markdown",
   "id": "d81db742-8b2d-4bb3-9b9b-96764ead8232",
   "metadata": {},
   "source": [
    "# **Proyecto Data Science From Scratch**\n",
    "\n",
    "## Predicción del Campeón de la Copa del Mundo 2022\n",
    "\n",
    "En este proyecto intentaremos predecir al campeón de fútbol de la Copa del Mundo 2022 a partir\n",
    "de los **datos históricos** que recolectaremos, limpiaremos y organizaremos para realizar,\n",
    "posteriormente, la predicción del campeón de mundo 2022. Para ello utilizaremos la [Distribución\n",
    "de Poisson](https://es.wikipedia.org/wiki/Distribuci%C3%B3n_de_Poisson)"
   ]
  },
  {
   "cell_type": "markdown",
   "id": "c9f75f68-6e02-4c74-b4a9-2b988e8679d5",
   "metadata": {},
   "source": [
    "# Fases de un Proyecto de Data Science\n",
    "\n",
    "![Fases de un Proyecto de Data Science](./images/workflow.png)"
   ]
  },
  {
   "cell_type": "markdown",
   "id": "d6bc7cd5-ace2-4dad-92bd-9bbf8f73e90c",
   "metadata": {},
   "source": [
    "# Parte 1\n",
    "## Extracción de los grupos 2022"
   ]
  },
  {
   "cell_type": "code",
   "execution_count": 1,
   "id": "95245c81-dbf5-4f53-b94e-c79cc6bb5caa",
   "metadata": {},
   "outputs": [],
   "source": [
    "import pandas as pd"
   ]
  },
  {
   "cell_type": "code",
   "execution_count": 2,
   "id": "228e7991-77ba-47ce-b6bc-0e997883b8d8",
   "metadata": {},
   "outputs": [],
   "source": [
    "# Leo todas las tablas - Tablas vacías de Mundial 2022\n",
    "all_tables = pd.read_html('https://web.archive.org/web/20221115040351/https://en.wikipedia.org/wiki/2022_FIFA_World_Cup')"
   ]
  },
  {
   "cell_type": "code",
   "execution_count": 3,
   "id": "20bf5126-26b1-4642-8b20-2b389346d53c",
   "metadata": {
    "editable": true,
    "slideshow": {
     "slide_type": ""
    },
    "tags": []
   },
   "outputs": [],
   "source": [
    "# Leo las tablas que me interesan (Grupo A hasta Grupo H), las limpio y las guardo en una lista\n",
    "tables = []\n",
    "for i in range(12, 62, 7):\n",
    "    table = all_tables[i]\n",
    "\n",
    "    # corrijo las columnas\n",
    "    table.pop('Qualification')\n",
    "    table.rename(columns={'Teamvte': 'Team'}, inplace=True)\n",
    "    \n",
    "    tables.append(table)"
   ]
  },
  {
   "cell_type": "code",
   "execution_count": 4,
   "id": "66f81290-a342-483e-95d8-45c3ed3c6ea1",
   "metadata": {},
   "outputs": [],
   "source": [
    "# Creo un diccionario emparejando el 'grupo' con su respectiva 'tabla'\n",
    "groups = {}\n",
    "for i in range(0, len(tables)):\n",
    "    k = chr(65 + i)\n",
    "    v = tables[i]\n",
    "\n",
    "    groups[f'Group {k}'] = v"
   ]
  },
  {
   "cell_type": "code",
   "execution_count": 5,
   "id": "039ecccd-408a-46b7-8352-a902f2627f33",
   "metadata": {},
   "outputs": [],
   "source": [
    "import pickle"
   ]
  },
  {
   "cell_type": "code",
   "execution_count": 6,
   "id": "bf0102e5-a8c9-4240-bf1c-6c8f50dfe0c5",
   "metadata": {},
   "outputs": [],
   "source": [
    "# Guardo el diccionario de grupos serializado en disco\n",
    "with open('groups.dat', 'wb') as out:\n",
    "    pickle.dump(groups, out)"
   ]
  },
  {
   "cell_type": "markdown",
   "id": "2f023b41-4506-4de4-8732-3881a9461e4c",
   "metadata": {},
   "source": [
    "# Parte 2\n",
    "## Recolección de datos (todos los mundiales del 1930 al 2018)"
   ]
  },
  {
   "cell_type": "code",
   "execution_count": 1,
   "id": "952795eb-580e-4097-85a7-6e1c81477764",
   "metadata": {},
   "outputs": [],
   "source": [
    "import pandas as pd\n",
    "import requests\n",
    "from bs4 import BeautifulSoup"
   ]
  },
  {
   "cell_type": "code",
   "execution_count": 16,
   "id": "796b7ae1-cda1-41a1-814f-b4689aa16653",
   "metadata": {},
   "outputs": [],
   "source": [
    "def get_matches(url, year):\n",
    "    \"\"\"Obtiene todos los partidos jugados en un año determinado.\n",
    "    \n",
    "    Parameters\n",
    "    ----------\n",
    "    year : str or int\n",
    "      Año del mundial.\n",
    "    \n",
    "    Returns\n",
    "    -------\n",
    "    pandas.core.frame.DataFrame: Dataframe con el resultado de todos los equipos.\n",
    "        \n",
    "    \"\"\"\n",
    "        \n",
    "    response = requests.get(url)\n",
    "    content = response.text\n",
    "\n",
    "    # parser lxml\n",
    "    soup = BeautifulSoup(content, 'lxml')\n",
    "\n",
    "    # todos los partidos (encuentros)\n",
    "    matches = soup.find_all('div', class_='footballbox')\n",
    "    \n",
    "    home = []\n",
    "    score = []\n",
    "    away = []\n",
    "    for match in matches:\n",
    "        home.append(match.find('th', class_='fhome').get_text().replace('\\xa0', ''))\n",
    "        score.append(match.find('th', class_='fscore').get_text().replace(' (a.e.t.)', ''))\n",
    "        away.append(match.find('th', class_='faway').get_text().replace('\\xa0', ''))\n",
    "\n",
    "    df = pd.DataFrame({\n",
    "        'Home': home,\n",
    "        'Score': score,\n",
    "        'Away': away\n",
    "    })\n",
    "\n",
    "    df['Year'] = year\n",
    "\n",
    "    return df"
   ]
  },
  {
   "cell_type": "code",
   "execution_count": 17,
   "id": "ad5c077a-e2ba-44c1-8e6e-b9ed43465787",
   "metadata": {},
   "outputs": [],
   "source": [
    "# Obtengo los dataframes de todos los mundiales (todos los años)\n",
    "matches_list = []\n",
    "for year in range(1930, 2019, 4):\n",
    "    # elimino los años que no se jugaron mundiales\n",
    "    if year == 1942 or year == 1946:\n",
    "        continue\n",
    "\n",
    "    # URL de la cual voy a extraer los datos de los partidos\n",
    "    url = f'https://en.wikipedia.org/wiki/{year}_FIFA_World_Cup'\n",
    "    \n",
    "    matches_list.append(get_matches(url, year))"
   ]
  },
  {
   "cell_type": "code",
   "execution_count": 18,
   "id": "3266f1a8-b27f-44f0-b89c-93c5e291b4c5",
   "metadata": {},
   "outputs": [],
   "source": [
    "# unifico todos los mundiales en un único dataframe\n",
    "df_fifa = pd.concat(matches_list, ignore_index=True)\n",
    "\n",
    "# los exporto a un archivo csv\n",
    "df_fifa.to_csv('fifa_worldcup_historical_data.csv', index=False)"
   ]
  },
  {
   "cell_type": "markdown",
   "id": "a870dd68-d618-4f53-a68a-f9a43fe6a438",
   "metadata": {},
   "source": [
    "## Extracción del Fixture 2022"
   ]
  },
  {
   "cell_type": "code",
   "execution_count": 19,
   "id": "b310c47c-a0f1-41e1-8236-7262cd6a6e7c",
   "metadata": {},
   "outputs": [],
   "source": [
    "# URL de la cual voy a extraer los datos de los partidos\n",
    "url = 'https://web.archive.org/web/20221115040351/https://en.wikipedia.org/wiki/2022_FIFA_World_Cup'\n",
    "\n",
    "# año del mundial sin datos (2022)\n",
    "year = 2022\n",
    "\n",
    "# extraigo los partidos (encuentros) que se disputarán en 2022\n",
    "df_fixture = get_matches(url, year)\n",
    "\n",
    "# lo exporto a un archivo csv\n",
    "df_fixture.to_csv('fifa_worldcup_fixture_2022.csv', index=False)"
   ]
  },
  {
   "cell_type": "markdown",
   "id": "5aa029b5-71a5-453e-a0bc-86e2f9a7d961",
   "metadata": {},
   "source": [
    "# Parte 3\n",
    "## Obtención de los datos faltantes con la librería _Selenium_"
   ]
  },
  {
   "cell_type": "code",
   "execution_count": null,
   "id": "697d8425-47bb-4094-80ef-0dad0c52304d",
   "metadata": {},
   "outputs": [],
   "source": []
  },
  {
   "cell_type": "code",
   "execution_count": null,
   "id": "f48277f6-ce42-4ecb-bcc6-f82c36d57511",
   "metadata": {},
   "outputs": [],
   "source": []
  },
  {
   "cell_type": "code",
   "execution_count": null,
   "id": "89da3190-4d9a-4b47-bfca-f9ba24c9e530",
   "metadata": {},
   "outputs": [],
   "source": []
  },
  {
   "cell_type": "code",
   "execution_count": null,
   "id": "c30d3677-a45b-462c-b1a7-bf20afcc33a8",
   "metadata": {},
   "outputs": [],
   "source": []
  },
  {
   "cell_type": "code",
   "execution_count": null,
   "id": "5d24e6f3-9542-4ec5-9f79-70412a396e40",
   "metadata": {},
   "outputs": [],
   "source": []
  },
  {
   "cell_type": "code",
   "execution_count": null,
   "id": "a8752018-49b3-4a3a-bf27-330a38b6c024",
   "metadata": {},
   "outputs": [],
   "source": []
  },
  {
   "cell_type": "code",
   "execution_count": null,
   "id": "6f4f6cf8-5c82-4573-be12-8bf14ac2cd69",
   "metadata": {},
   "outputs": [],
   "source": []
  },
  {
   "cell_type": "code",
   "execution_count": null,
   "id": "205696ac-0b8b-498a-89b8-239b8368b05b",
   "metadata": {},
   "outputs": [],
   "source": []
  },
  {
   "cell_type": "code",
   "execution_count": null,
   "id": "5df3f310-93e9-4c77-ae01-94a962c1aad6",
   "metadata": {},
   "outputs": [],
   "source": []
  },
  {
   "cell_type": "code",
   "execution_count": null,
   "id": "a1c936fa-b075-4b90-abd4-31e124444841",
   "metadata": {},
   "outputs": [],
   "source": []
  },
  {
   "cell_type": "code",
   "execution_count": null,
   "id": "4a8cee63-4424-4e01-8c78-1756e55cb59f",
   "metadata": {},
   "outputs": [],
   "source": []
  },
  {
   "cell_type": "code",
   "execution_count": null,
   "id": "bb04b1ab-2a8f-422e-a31a-2bd47b38a894",
   "metadata": {},
   "outputs": [],
   "source": []
  },
  {
   "cell_type": "code",
   "execution_count": null,
   "id": "d28d931a-48ef-4994-88c9-f8854d78c527",
   "metadata": {},
   "outputs": [],
   "source": []
  },
  {
   "cell_type": "code",
   "execution_count": null,
   "id": "b5a9b5d5-dacb-4b66-8b21-3a46ce50f138",
   "metadata": {},
   "outputs": [],
   "source": []
  },
  {
   "cell_type": "code",
   "execution_count": null,
   "id": "116b5aaf-c8de-4613-b8df-78a839b9bc9d",
   "metadata": {},
   "outputs": [],
   "source": []
  },
  {
   "cell_type": "code",
   "execution_count": null,
   "id": "360a8672-1f69-4274-87e5-ecea79f6e6ae",
   "metadata": {},
   "outputs": [],
   "source": []
  },
  {
   "cell_type": "code",
   "execution_count": null,
   "id": "141f397b-57c0-481d-8f26-1b933a3ad635",
   "metadata": {},
   "outputs": [],
   "source": []
  },
  {
   "cell_type": "code",
   "execution_count": null,
   "id": "44008bee-c67a-4ee3-a7d1-07a6e13eb0c3",
   "metadata": {},
   "outputs": [],
   "source": []
  },
  {
   "cell_type": "code",
   "execution_count": null,
   "id": "55c5ffb5-215e-4b4e-a807-9f9271757eb3",
   "metadata": {},
   "outputs": [],
   "source": []
  },
  {
   "cell_type": "code",
   "execution_count": null,
   "id": "f5b1e3b6-a649-49f5-b16e-f38cc5972227",
   "metadata": {},
   "outputs": [],
   "source": []
  },
  {
   "cell_type": "code",
   "execution_count": null,
   "id": "2969ea07-faa7-42d5-b197-87e85a02b69c",
   "metadata": {},
   "outputs": [],
   "source": []
  }
 ],
 "metadata": {
  "kernelspec": {
   "display_name": "Python 3 (ipykernel)",
   "language": "python",
   "name": "python3"
  },
  "language_info": {
   "codemirror_mode": {
    "name": "ipython",
    "version": 3
   },
   "file_extension": ".py",
   "mimetype": "text/x-python",
   "name": "python",
   "nbconvert_exporter": "python",
   "pygments_lexer": "ipython3",
   "version": "3.11.6"
  }
 },
 "nbformat": 4,
 "nbformat_minor": 5
}
